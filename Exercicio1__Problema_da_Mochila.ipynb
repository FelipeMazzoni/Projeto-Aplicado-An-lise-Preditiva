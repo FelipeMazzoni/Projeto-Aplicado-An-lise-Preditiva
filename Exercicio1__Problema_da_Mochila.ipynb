{
  "nbformat": 4,
  "nbformat_minor": 0,
  "metadata": {
    "colab": {
      "provenance": []
    },
    "kernelspec": {
      "name": "python3",
      "display_name": "Python 3"
    },
    "language_info": {
      "name": "python"
    }
  },
  "cells": [
    {
      "cell_type": "code",
      "execution_count": null,
      "metadata": {
        "colab": {
          "base_uri": "https://localhost:8080/"
        },
        "id": "z9wqvV_YUTw_",
        "outputId": "a547b070-8d0a-4ad7-8e32-ea52029738c6"
      },
      "outputs": [
        {
          "output_type": "stream",
          "name": "stdout",
          "text": [
            "Looking in indexes: https://pypi.org/simple, https://us-python.pkg.dev/colab-wheels/public/simple/\n",
            "Collecting mip\n",
            "  Downloading mip-1.15.0-py3-none-any.whl (15.3 MB)\n",
            "\u001b[2K     \u001b[90m━━━━━━━━━━━━━━━━━━━━━━━━━━━━━━━━━━━━━━━━\u001b[0m \u001b[32m15.3/15.3 MB\u001b[0m \u001b[31m5.3 MB/s\u001b[0m eta \u001b[36m0:00:00\u001b[0m\n",
            "\u001b[?25hRequirement already satisfied: cffi==1.15.* in /usr/local/lib/python3.9/dist-packages (from mip) (1.15.1)\n",
            "Requirement already satisfied: pycparser in /usr/local/lib/python3.9/dist-packages (from cffi==1.15.*->mip) (2.21)\n",
            "Installing collected packages: mip\n",
            "Successfully installed mip-1.15.0\n"
          ]
        }
      ],
      "source": [
        "!pip install mip"
      ]
    },
    {
      "cell_type": "code",
      "source": [
        "from mip import Model, maximize, xsum, BINARY, OptimizationStatus"
      ],
      "metadata": {
        "id": "zpUNDIrdXtse"
      },
      "execution_count": null,
      "outputs": []
    },
    {
      "cell_type": "code",
      "source": [
        "coef_funcao_objetivo = [4, 6, 5, 3, 1]\n",
        "coef_restr = [5, 4, 3, 2, 1]\n",
        "termo_independente = 10 "
      ],
      "metadata": {
        "id": "Gs5RLgDwXvSk"
      },
      "execution_count": null,
      "outputs": []
    },
    {
      "cell_type": "code",
      "source": [
        "I = range(len(coef_funcao_objetivo))\n",
        "m = Model(\"knapsack\")"
      ],
      "metadata": {
        "id": "gc422E9wZVej"
      },
      "execution_count": null,
      "outputs": []
    },
    {
      "cell_type": "code",
      "source": [
        "x = [m.add_var(var_type=BINARY) for i in I]"
      ],
      "metadata": {
        "id": "Kd3ZasPmZxjH"
      },
      "execution_count": null,
      "outputs": []
    },
    {
      "cell_type": "code",
      "source": [
        "m.objective = maximize(xsum(coef_funcao_objetivo[i] * x[i] for i in I))"
      ],
      "metadata": {
        "id": "7ZU3euXMZ-TC"
      },
      "execution_count": null,
      "outputs": []
    },
    {
      "cell_type": "code",
      "source": [
        "funcao_objetivo=xsum(coef_funcao_objetivo[i] * x[i] for i in I)"
      ],
      "metadata": {
        "id": "njs7F-yqbaFq"
      },
      "execution_count": null,
      "outputs": []
    },
    {
      "cell_type": "code",
      "source": [
        "print(funcao_objetivo)"
      ],
      "metadata": {
        "colab": {
          "base_uri": "https://localhost:8080/"
        },
        "id": "aAF_jzJdbeNi",
        "outputId": "611bd680-ec7b-424a-d94c-6c61341007a0"
      },
      "execution_count": null,
      "outputs": [
        {
          "output_type": "stream",
          "name": "stdout",
          "text": [
            "+ 4var(0) + 6var(1) + 5var(2) + 3var(3) + var(4) \n"
          ]
        }
      ]
    },
    {
      "cell_type": "code",
      "source": [
        "m += xsum(coef_restr[i] * x[i] for i in I) <= termo_independente\n",
        "print(f'O modelo tem {m.num_cols} variável(eis), {m.num_rows} restrição(ões) e {m.num_nz} zero(s)')"
      ],
      "metadata": {
        "colab": {
          "base_uri": "https://localhost:8080/"
        },
        "id": "8eJC-vwLbjop",
        "outputId": "9cc82c51-af24-43a5-ee53-fd49937e1fe8"
      },
      "execution_count": null,
      "outputs": [
        {
          "output_type": "stream",
          "name": "stdout",
          "text": [
            "O modelo tem 5 variável(eis), 1 restrição(ões) e 5 zero(s)\n"
          ]
        }
      ]
    },
    {
      "cell_type": "code",
      "source": [
        "status = m.optimize(max_seconds=2)"
      ],
      "metadata": {
        "id": "KvqDMFkEb1oX"
      },
      "execution_count": null,
      "outputs": []
    },
    {
      "cell_type": "code",
      "source": [
        "status == OptimizationStatus.OPTIMAL"
      ],
      "metadata": {
        "colab": {
          "base_uri": "https://localhost:8080/"
        },
        "id": "oeW5I-NYb5wO",
        "outputId": "130652fb-5de6-4725-e7bf-74a8cecba446"
      },
      "execution_count": null,
      "outputs": [
        {
          "output_type": "execute_result",
          "data": {
            "text/plain": [
              "True"
            ]
          },
          "metadata": {},
          "execution_count": 21
        }
      ]
    },
    {
      "cell_type": "code",
      "source": [
        "itens_selecionados = [\"x\"+str(i+1) for i in I if x[i].x >= 0.99]\n",
        "print(\"Itens selecionados: {}\".format(itens_selecionados))"
      ],
      "metadata": {
        "colab": {
          "base_uri": "https://localhost:8080/"
        },
        "id": "wTVpSTnTdDvk",
        "outputId": "a7905bdf-9cd2-4acc-f81c-37af96a6d5fe"
      },
      "execution_count": null,
      "outputs": [
        {
          "output_type": "stream",
          "name": "stdout",
          "text": [
            "Itens selecionados: ['x2', 'x3', 'x4', 'x5']\n"
          ]
        }
      ]
    },
    {
      "cell_type": "markdown",
      "source": [
        "COM BASE NO MODELO DE OTIMIZAÇÃO, OBSERVA-SE QUE AS VARIÁVEIS SUGERIDAS SÃO X2, X3, X4 E X5"
      ],
      "metadata": {
        "id": "pfw7mhNHjKPw"
      }
    }
  ]
}